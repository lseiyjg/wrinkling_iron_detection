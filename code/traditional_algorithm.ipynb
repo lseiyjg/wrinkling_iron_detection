{
 "cells": [
  {
   "cell_type": "code",
   "execution_count": 37,
   "metadata": {},
   "outputs": [],
   "source": [
    "import os\n",
    "import cv2\n",
    "import sklearn\n",
    "from sklearn import svm,tree\n",
    "from sklearn.neighbors import KNeighborsClassifier\n",
    "from sklearn.ensemble import RandomForestClassifier,GradientBoostingClassifier \n",
    "import numpy as np"
   ]
  },
  {
   "cell_type": "code",
   "execution_count": 38,
   "metadata": {},
   "outputs": [],
   "source": [
    "def score_mae(pred, true):\n",
    "    return 1 - np.sum(np.abs(pred - true))/(1.0*len(true))"
   ]
  },
  {
   "cell_type": "code",
   "execution_count": 39,
   "metadata": {},
   "outputs": [],
   "source": [
    "PATH = '/home/liuzheng/project/wrinkling_iron_detection/data/processed_data/'\n",
    "\n",
    "TRAIN_PATH = PATH + 'train/'\n",
    "TEST_PATH = PATH + 'test/'\n",
    "\n",
    "train_list = os.listdir(TRAIN_PATH)\n",
    "test_list = os.listdir(TEST_PATH)\n",
    "label_train = [0 if i[0]=='n' else 1 for i in train_list]\n",
    "label_test = [0 if i[0]=='n' else 1 for i in test_list]\n",
    "\n",
    "score_mae_list = []\n",
    "score_name = []\n",
    "xx = []\n",
    "xy = label_train\n",
    "zx = []\n",
    "zy = label_test\n",
    "\n",
    "for train_file in train_list:\n",
    "    xx = xx + [cv2.imread(TRAIN_PATH + train_file)]\n",
    "xx = np.array(xx)\n",
    "xy = np.array(xy)\n",
    "\n",
    "for test_file in test_list:\n",
    "    zx = zx + [cv2.imread(TEST_PATH + test_file)]\n",
    "zx = np.array(zx)\n",
    "zy = np.array(zy)"
   ]
  },
  {
   "cell_type": "markdown",
   "metadata": {},
   "source": [
    "# traditional algorithom with original image input"
   ]
  },
  {
   "cell_type": "code",
   "execution_count": 40,
   "metadata": {},
   "outputs": [],
   "source": [
    "clf = svm.SVC()\n",
    "clf.fit(xx.reshape(xx.shape[0], -1), xy)\n",
    "pred = clf.predict(zx.reshape(zx.shape[0], -1))\n",
    "score_mae_list += [score_mae(pred, zy)]\n",
    "score_name += ['svm']"
   ]
  },
  {
   "cell_type": "code",
   "execution_count": 41,
   "metadata": {},
   "outputs": [],
   "source": [
    "clf = KNeighborsClassifier()\n",
    "clf.fit(xx.reshape(xx.shape[0], -1), xy)\n",
    "pred = clf.predict(zx.reshape(zx.shape[0], -1))\n",
    "score_mae_list += [score_mae(pred, zy)]\n",
    "score_name += ['Kneighbor']"
   ]
  },
  {
   "cell_type": "code",
   "execution_count": 42,
   "metadata": {},
   "outputs": [],
   "source": [
    "clf = RandomForestClassifier()\n",
    "clf.fit(xx.reshape(xx.shape[0], -1), xy)\n",
    "pred = clf.predict(zx.reshape(zx.shape[0], -1))\n",
    "score_mae_list += [score_mae(pred, zy)]\n",
    "score_name += ['RandomForest']"
   ]
  },
  {
   "cell_type": "code",
   "execution_count": 43,
   "metadata": {},
   "outputs": [],
   "source": [
    "clf = tree.DecisionTreeClassifier()\n",
    "clf.fit(xx.reshape(xx.shape[0], -1), xy)\n",
    "pred = clf.predict(zx.reshape(zx.shape[0], -1))\n",
    "score_mae_list += [score_mae(pred, zy)]\n",
    "score_name += ['DecisionTree']"
   ]
  },
  {
   "cell_type": "code",
   "execution_count": 45,
   "metadata": {
    "scrolled": false
   },
   "outputs": [],
   "source": [
    "# # too slow!\n",
    "# clf = GradientBoostingClassifier()\n",
    "# clf.fit(xx.reshape(xx.shape[0], -1), xy)\n",
    "# pred = clf.predict(zx.reshape(zx.shape[0], -1))\n",
    "# score_mae_list += [score_mae(pred, zy)]\n",
    "# score_name += ['GradientBoosting']"
   ]
  },
  {
   "cell_type": "code",
   "execution_count": 46,
   "metadata": {},
   "outputs": [
    {
     "name": "stdout",
     "output_type": "stream",
     "text": [
      "[0.9951456310679612, 0.9951456310679612, 1.0, 1.0, 1.0]\n",
      "['svm', 'Kneighbor', 'RandomForest', 'DecisionTree']\n"
     ]
    }
   ],
   "source": [
    "print(score_list)\n",
    "print(score_name)"
   ]
  },
  {
   "cell_type": "code",
   "execution_count": null,
   "metadata": {},
   "outputs": [],
   "source": []
  }
 ],
 "metadata": {
  "kernelspec": {
   "display_name": "Python 2",
   "language": "python",
   "name": "python2"
  },
  "language_info": {
   "codemirror_mode": {
    "name": "ipython",
    "version": 2
   },
   "file_extension": ".py",
   "mimetype": "text/x-python",
   "name": "python",
   "nbconvert_exporter": "python",
   "pygments_lexer": "ipython2",
   "version": "2.7.5"
  }
 },
 "nbformat": 4,
 "nbformat_minor": 2
}
