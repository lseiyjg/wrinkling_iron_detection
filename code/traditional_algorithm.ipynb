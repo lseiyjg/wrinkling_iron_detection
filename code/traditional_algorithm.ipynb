{
 "cells": [
  {
   "cell_type": "code",
   "execution_count": 25,
   "metadata": {},
   "outputs": [],
   "source": [
    "import os\n",
    "import cv2\n",
    "import sklearn\n",
    "import numpy as np"
   ]
  },
  {
   "cell_type": "code",
   "execution_count": 26,
   "metadata": {},
   "outputs": [],
   "source": [
    "PATH = '/home/liuzheng/project/wrinkling_iron_detection/data/processed_data/'\n",
    "\n",
    "TRAIN_PATH = PATH + 'train/'\n",
    "TEST_PATH = PATH + 'test/'\n",
    "\n",
    "train_list = os.listdir(TRAIN_PATH)\n",
    "test_list = os.listdir(TEST_PATH)\n",
    "label_train = [0 if i[0]=='n' else 1 for i in train_list]\n",
    "label_test = [0 if i[0]=='n' else 1 for i in train_list]\n",
    "\n",
    "xx = []\n",
    "xy = label_train\n",
    "zx = []\n",
    "zy = label_test"
   ]
  },
  {
   "cell_type": "code",
   "execution_count": 27,
   "metadata": {},
   "outputs": [],
   "source": [
    "for train_file in train_list:\n",
    "    xx = xx + [cv2.imread(TRAIN_PATH + train_file)]\n",
    "xx = np.array(xx)\n",
    "xy = np.array(xy)\n",
    "\n",
    "for test_file in test_list:\n",
    "    zx = zx + [cv2.imread(TEST_PATH + test_file)]\n",
    "zx = np.array(zx)\n",
    "zy = np.array(zy)"
   ]
  },
  {
   "cell_type": "code",
   "execution_count": 23,
   "metadata": {},
   "outputs": [
    {
     "data": {
      "text/plain": [
       "(818, 288, 352, 3)"
      ]
     },
     "execution_count": 23,
     "metadata": {},
     "output_type": "execute_result"
    }
   ],
   "source": [
    "# traditional algorithom with original image input\n"
   ]
  },
  {
   "cell_type": "code",
   "execution_count": null,
   "metadata": {},
   "outputs": [],
   "source": []
  }
 ],
 "metadata": {
  "kernelspec": {
   "display_name": "Python 2",
   "language": "python",
   "name": "python2"
  },
  "language_info": {
   "codemirror_mode": {
    "name": "ipython",
    "version": 2
   },
   "file_extension": ".py",
   "mimetype": "text/x-python",
   "name": "python",
   "nbconvert_exporter": "python",
   "pygments_lexer": "ipython2",
   "version": "2.7.5"
  }
 },
 "nbformat": 4,
 "nbformat_minor": 2
}
