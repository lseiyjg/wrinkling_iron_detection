{
 "cells": [
  {
   "cell_type": "code",
   "execution_count": 18,
   "metadata": {},
   "outputs": [],
   "source": [
    "import h5py\n",
    "import numpy as np\n",
    "import cv2\n",
    "import os"
   ]
  },
  {
   "cell_type": "code",
   "execution_count": 19,
   "metadata": {},
   "outputs": [],
   "source": [
    "NEG_PATH = '../data/negtive/'\n",
    "POS_PATH = '../data/positive/'\n",
    "name_h5 = '../data/training_img.h5' "
   ]
  },
  {
   "cell_type": "code",
   "execution_count": 20,
   "metadata": {},
   "outputs": [],
   "source": [
    "def create_hdf5():\n",
    "    neg_file_list =  os.listdir(NEG_PATH)\n",
    "    pos_file_list =  os.listdir(POS_PATH)\n",
    "\n",
    "    data = []\n",
    "    label = []\n",
    "    for img in neg_file_list:\n",
    "        data += [cv2.imread(NEG_PATH+img)]\n",
    "        label += [0]\n",
    "    for img in pos_file_list:\n",
    "        data += [cv2.imread(POS_PATH+img)]\n",
    "        label += [1]\n",
    "\n",
    "    data = np.array(data)\n",
    "    label = np.array(label)\n",
    "\n",
    "    if os.path.exists(name_h5):\n",
    "        os.remove(name_h5)\n",
    "    train_h5 = h5py.File(name_h5, 'w')\n",
    "    train_h5['data'] = data\n",
    "    train_h5['label'] = label\n",
    "    train_h5.close()"
   ]
  },
  {
   "cell_type": "code",
   "execution_count": 23,
   "metadata": {},
   "outputs": [],
   "source": [
    "if __name__ == '__main__':\n",
    "    create_hdf5()"
   ]
  }
 ],
 "metadata": {
  "kernelspec": {
   "display_name": "Python 3",
   "language": "python",
   "name": "python3"
  },
  "language_info": {
   "codemirror_mode": {
    "name": "ipython",
    "version": 3
   },
   "file_extension": ".py",
   "mimetype": "text/x-python",
   "name": "python",
   "nbconvert_exporter": "python",
   "pygments_lexer": "ipython3",
   "version": "3.6.3"
  }
 },
 "nbformat": 4,
 "nbformat_minor": 2
}
