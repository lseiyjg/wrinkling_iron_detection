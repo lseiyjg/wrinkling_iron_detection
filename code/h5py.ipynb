{
 "cells": [
  {
   "cell_type": "code",
   "execution_count": 1,
   "metadata": {},
   "outputs": [
    {
     "name": "stderr",
     "output_type": "stream",
     "text": [
      "c:\\users\\lsei\\appdata\\local\\programs\\python\\python36\\lib\\site-packages\\h5py\\__init__.py:36: FutureWarning: Conversion of the second argument of issubdtype from `float` to `np.floating` is deprecated. In future, it will be treated as `np.float64 == np.dtype(float).type`.\n",
      "  from ._conv import register_converters as _register_converters\n"
     ]
    }
   ],
   "source": [
    "import h5py\n",
    "import os\n",
    "import cv2\n",
    "import numpy as np"
   ]
  },
  {
   "cell_type": "code",
   "execution_count": 2,
   "metadata": {},
   "outputs": [],
   "source": [
    "NEG_PATH = '../data/negtive/'\n",
    "POS_PATH = '../data/positive/'\n",
    "TRAIN_PATH = '../data/train.h5' \n",
    "TEST_PATH = '../data/test.h5' \n",
    "TRAIN_TEST_RATIO = 0.8"
   ]
  },
  {
   "cell_type": "code",
   "execution_count": 20,
   "metadata": {},
   "outputs": [],
   "source": [
    "def create_hdf5():\n",
    "    neg_file_list =  os.listdir(NEG_PATH)\n",
    "    pos_file_list =  os.listdir(POS_PATH)\n",
    "\n",
    "    data = []\n",
    "    label = []\n",
    "    for img in neg_file_list:\n",
    "        data += [cv2.imread(NEG_PATH+img)]\n",
    "        label += [0]\n",
    "    for img in pos_file_list:\n",
    "        data += [cv2.imread(POS_PATH+img)]\n",
    "        label += [1]\n",
    "\n",
    "    data = np.array(data)\n",
    "    label = np.array(label)\n",
    "\n",
    "    if os.path.exists(TRAIN_PATH):\n",
    "        os.remove(TRAIN_PATH)\n",
    "    if os.path.exists(TEST_PATH):\n",
    "        os.remove(TEST_PATH)\n",
    "    \n",
    "    flag = int(TRAIN_TEST_RATIO * len(data))\n",
    "    train = h5py.File(TRAIN_PATH, 'w')\n",
    "    train['data'] = data[:flag]\n",
    "    train['label'] = label[:flag]\n",
    "    train.close()\n",
    "    test = h5py.File(TEST_PATH, 'w')\n",
    "    test['data'] = data[flag]\n",
    "    test['label'] = label[flag:]\n",
    "    test.close()"
   ]
  },
  {
   "cell_type": "code",
   "execution_count": 23,
   "metadata": {},
   "outputs": [],
   "source": [
    "if __name__ == '__main__':\n",
    "    create_hdf5()"
   ]
  }
 ],
 "metadata": {
  "kernelspec": {
   "display_name": "Python 3",
   "language": "python",
   "name": "python3"
  },
  "language_info": {
   "codemirror_mode": {
    "name": "ipython",
    "version": 3
   },
   "file_extension": ".py",
   "mimetype": "text/x-python",
   "name": "python",
   "nbconvert_exporter": "python",
   "pygments_lexer": "ipython3",
   "version": "3.6.3"
  }
 },
 "nbformat": 4,
 "nbformat_minor": 2
}
